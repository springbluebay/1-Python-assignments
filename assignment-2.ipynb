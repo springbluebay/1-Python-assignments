{
 "cells": [
  {
   "cell_type": "code",
   "execution_count": null,
   "metadata": {},
   "outputs": [],
   "source": [
    "# Assignment - 2 (if-Statements) \n",
    "\n",
    "age = input(\"Are you cigarettte addict older than 75 years old? : (Yes/No)\").title().strip() == \"Yes\"\n",
    "chronic = input (\"Do You have a severe chronic disease? : (Yes/No)\").title().strip() == \"Yes\"\n",
    "immune = input (\"If your immune system too weak? : (Yes/No)\").title().strip() == \"Yes\"\n",
    "\n",
    "print(\"age answer :\", age, \"\\nchronic answer :\", chronic, \"\\nimmune answer :\",immune)\n",
    "\n",
    "if age or chronic or immune:\n",
    "    print(\"you are in the risky group\")\n",
    "else:\n",
    "    print(\"You are not in the risky group\")"
   ]
  }
 ],
 "metadata": {
  "language_info": {
   "codemirror_mode": {
    "name": "ipython",
    "version": 3
   },
   "file_extension": ".py",
   "mimetype": "text/x-python",
   "name": "python",
   "nbconvert_exporter": "python",
   "pygments_lexer": "ipython3",
   "version": 3
  },
  "orig_nbformat": 2
 },
 "nbformat": 4,
 "nbformat_minor": 2
}