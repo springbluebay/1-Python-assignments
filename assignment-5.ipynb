{
 "cells": [
  {
   "cell_type": "code",
   "execution_count": null,
   "metadata": {},
   "outputs": [],
   "source": [
    "#Assignment - 4 (Is it a Prime Number?)\n",
    "\n",
    "num = int(input(\"enter a number : \"))\n",
    "primelist = list()\n",
    "\n",
    "for i in range(2,num):\n",
    "    if num%i == 0:\n",
    "        primelist.append(i)\n",
    "if len(primelist)==0:\n",
    "    print(f'{num} is a prime number')\n",
    "else:\n",
    "    print(f'{num} is not a prime number')"
   ]
  },
  {
   "cell_type": "code",
   "execution_count": null,
   "metadata": {},
   "outputs": [],
   "source": []
  }
 ],
 "metadata": {
  "language_info": {
   "codemirror_mode": {
    "name": "ipython",
    "version": 3
   },
   "file_extension": ".py",
   "mimetype": "text/x-python",
   "name": "python",
   "nbconvert_exporter": "python",
   "pygments_lexer": "ipython3",
   "version": "3.7.7-final"
  },
  "orig_nbformat": 2,
  "kernelspec": {
   "name": "python3",
   "display_name": "Python 3"
  }
 },
 "nbformat": 4,
 "nbformat_minor": 2
}