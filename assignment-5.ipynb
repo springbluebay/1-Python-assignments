{
 "cells": [
  {
   "cell_type": "code",
   "execution_count": null,
   "metadata": {},
   "outputs": [],
   "source": [
    "# Assignment - 5 (Fibonacci)\n",
    "num = int(input(\"enter a number:\"))\n",
    "\n",
    "a=0\n",
    "b=1\n",
    "fibo=[1]\n",
    "\n",
    "if num < 0 :\n",
    "    print(\"this is not fibonacci\")\n",
    "else :\n",
    "    for i in range(2,num):\n",
    "        c = a+b \n",
    "        a = b  \n",
    "        b = c  \n",
    "        fibo.append(b)\n",
    "        if fibo[-1] > num:\n",
    "            fibo.pop()\n",
    "            break\n",
    "print(fibo)"
   ]
  }
 ],
 "metadata": {
  "language_info": {
   "codemirror_mode": {
    "name": "ipython",
    "version": 3
   },
   "file_extension": ".py",
   "mimetype": "text/x-python",
   "name": "python",
   "nbconvert_exporter": "python",
   "pygments_lexer": "ipython3",
   "version": "3.7.7-final"
  },
  "orig_nbformat": 2,
  "kernelspec": {
   "name": "python3",
   "display_name": "Python 3"
  }
 },
 "nbformat": 4,
 "nbformat_minor": 2
}