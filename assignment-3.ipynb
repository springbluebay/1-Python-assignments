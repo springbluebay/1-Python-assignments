{
 "cells": [
  {
   "cell_type": "code",
   "execution_count": null,
   "metadata": {},
   "outputs": [],
   "source": [
    "#  Assignment - 3 (Armstrong Numbers)\n",
    "\n",
    "while True :\n",
    "    number = input(\"Please enter a number : \")\n",
    "    digits = len(number)  ## num2= int(number[0])**len(number) + int(number[1])**len(number) + int(number[2])**len(number)\n",
    "                                                                   \n",
    "    toplam = 0\n",
    "\n",
    "    if not number.isdigit():\n",
    "\n",
    "        print(number, \"is an invalid entry. do not use non-numeric, float or negative number\")\n",
    "    \n",
    "    else:\n",
    "        for i in range(digits) :\n",
    "            toplam += int(number[i]) ** digits\n",
    "        if toplam == int(number):\n",
    "            print(number, \"is an Armstrong number.\")\n",
    "            break\n",
    "        else:\n",
    "            print(number, \"is not an Armstrong number.\")\n",
    "            break"
   ]
  }
 ],
 "metadata": {
  "language_info": {
   "codemirror_mode": {
    "name": "ipython",
    "version": 3
   },
   "file_extension": ".py",
   "mimetype": "text/x-python",
   "name": "python",
   "nbconvert_exporter": "python",
   "pygments_lexer": "ipython3",
   "version": "3.7.7-final"
  },
  "orig_nbformat": 2,
  "kernelspec": {
   "name": "python3",
   "display_name": "Python 3"
  }
 },
 "nbformat": 4,
 "nbformat_minor": 2
}