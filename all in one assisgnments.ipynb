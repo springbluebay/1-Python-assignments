{
 "cells": [
  {
   "cell_type": "code",
   "execution_count": null,
   "metadata": {},
   "outputs": [],
   "source": [
    "# Assignment - 1 (if-Statements)\n",
    "myname = 'bluebay'\n",
    "username = input('Please enter your name: ')\n",
    "if username == myname:\n",
    "    print(\"Hello,\", myname, \"The password is : @12\")\n",
    "else:\n",
    "    print(f'Hello, {username} See you later.')"
   ]
  },
  {
   "cell_type": "code",
   "execution_count": null,
   "metadata": {},
   "outputs": [],
   "source": [
    "# Assignment - 2 (if-Statements) \n",
    "\n",
    "age = input(\"Are you cigarettte addict older than 75 years old? : (Yes/No)\").title().strip() == \"Yes\"\n",
    "chronic = input (\"Do You have a severe chronic disease? : (Yes/No)\").title().strip() == \"Yes\"\n",
    "immune = input (\"If your immune system too weak? : (Yes/No)\").title().strip() == \"Yes\"\n",
    "\n",
    "print(\"age answer :\", age, \"\\nchronic answer :\", chronic, \"\\nimmune answer :\",immune)\n",
    "\n",
    "if age or chronic or immune:\n",
    "    print(\"you are in the risky group\")\n",
    "else:\n",
    "    print(\"You are not in the risky group\")"
   ]
  },
  {
   "cell_type": "code",
   "execution_count": null,
   "metadata": {
    "tags": []
   },
   "outputs": [],
   "source": [
    "#  Assignment - 3 (Armstrong Numbers)\n",
    "   # 1. kontrol et ve hatalı girişi raporla ve tekrar giriş iste # 2. sayının amstrong olup olmadığını kontrol et. input # 3. sonucu göster.\n",
    "   \n",
    "number = input(\"Please enter a number : \")\n",
    "digits = len(number)  ## num2= int(number[0])**len(number) + int(number[1])**len(number) + int(number[2])**len(number)                                            \n",
    "toplam = 0\n",
    "\n",
    "if not number.isdigit():\n",
    "    print(number, \"is an invalid entry. do not use non-numeric, float or negative number\")\n",
    "else:\n",
    "    for i in range(digits) :\n",
    "        toplam += int(number[i]) ** digits\n",
    "\n",
    "if toplam == int(number): #yukardan ayrı if\n",
    "    print(number, \"is an Armstrong number.\")\n",
    "else:\n",
    "    print(number, \"is not an Armstrong number.\")\n"
   ]
  },
  {
   "cell_type": "code",
   "execution_count": null,
   "metadata": {},
   "outputs": [],
   "source": [
    "age = input(\"Please enter a number : \")\n",
    "\n",
    "while age.isdigit():\n",
    "    print(\"you enter incorrectly\")\n",
    "    age=input(\"enter your age please\")\n",
    "\n",
    "print(\"Great. you entered valid input\", age)\n"
   ]
  },
  {
   "cell_type": "code",
   "execution_count": null,
   "metadata": {
    "tags": []
   },
   "outputs": [],
   "source": [
    "number = input(\"Please enter a number : \")\n",
    "digits = len(number)  ## num2= int(number[0])**len(number) + int(number[1])**len(number) + int(number[2])**len(number)                                            \n",
    "toplam = 0\n",
    "\n",
    "if int(number) < 0:\n",
    "    print(\"Please enter a positive number\")\n",
    "elif float(int(number))==True:\n",
    "    print(\"Please enter a integer number\")\n",
    "elif str(number)==True:\n",
    "    print(\"do not use any entries other than numeric values\")\n",
    "else:\n",
    "    for i in range(digits) :\n",
    "        toplam += int(number[i]) ** digits\n",
    "\n",
    "if toplam == int(number): #yukardan ayrı if\n",
    "    print(number, \"is an Armstrong number.\")\n",
    "else:\n",
    "    print(number, \"is not an Armstrong number.\")\n"
   ]
  },
  {
   "cell_type": "code",
   "execution_count": null,
   "metadata": {},
   "outputs": [],
   "source": [
    "number=5\n",
    "print(number.isdigit())"
   ]
  },
  {
   "cell_type": "code",
   "execution_count": null,
   "metadata": {},
   "outputs": [],
   "source": [
    "# Assignment - 4 (Is it a Prime Number)\n",
    "\n",
    "num = int(input(\"Please enter a number :\")) \n",
    "prime=list()\n",
    "\n",
    "for i in range(2,num):\n",
    "    if num % i == 0:\n",
    "        prime.append(i)\n",
    "if len(prime) !=0:\n",
    "    print (f'{num} is not a prime number')\n",
    "else:\n",
    "    print (f'{num} is  a prime number')"
   ]
  },
  {
   "cell_type": "code",
   "execution_count": null,
   "metadata": {},
   "outputs": [],
   "source": [
    "n = int(input(\"enter a number to check if it is a prime\")) ## labtaki çözüm\n",
    "\n",
    "count = 0\n",
    "for i in range(1, n+1):\n",
    "    if n%i==0: count +=1\n",
    "if count == 2 : print(n,\"is a prime number\")\n",
    "else: print(n, \"is not a prime\")"
   ]
  },
  {
   "cell_type": "code",
   "execution_count": null,
   "metadata": {},
   "outputs": [],
   "source": [
    "# Assignment - 5 (Fibonacci) # Create a list consisting of Fibonacci numbers from 1 to 55. \n",
    "num = int(input(\"enter a number:\"))\n",
    "\n",
    "a=0\n",
    "b=1\n",
    "fibo=[1]\n",
    "\n",
    "if num < 0 :\n",
    "    print(\"this is not fibonacci\")\n",
    "else :\n",
    "    for i in range(2,num):\n",
    "        c = a+b \n",
    "        a = b  \n",
    "        b = c  \n",
    "        fibo.append(b)\n",
    "        if fibo[-1] > num:\n",
    "            fibo.pop()\n",
    "            break\n",
    "print(fibo)"
   ]
  },
  {
   "cell_type": "code",
   "execution_count": null,
   "metadata": {},
   "outputs": [],
   "source": [
    "#labtaki çözüm\n",
    "num = int(input(\"enter a limit number of fibonacci list element :\"))\n",
    "\n",
    "fib=[1,1]\n",
    "\n",
    "for i in range(num-2):\n",
    "    fib.append(fib[i] + fib[i+1])\n",
    "\n",
    "print(fib)"
   ]
  },
  {
   "cell_type": "code",
   "execution_count": null,
   "metadata": {},
   "outputs": [],
   "source": [
    "x,y = 0,1\n",
    "z=[]\n",
    "\n",
    "for i in range(10):\n",
    "    x,y=y, x+y\n",
    "    z.append(x)\n",
    "print(z)    "
   ]
  },
  {
   "cell_type": "code",
   "execution_count": null,
   "metadata": {},
   "outputs": [],
   "source": [
    "# Assignment - 6 (Primes) Print the prime numbers which are between 1 to entered limit number (n). You can use a nested for loop. Collect all these numbers into a list\n",
    "\n",
    "n = int(input(\"Please enter a number :\"))\n",
    "\n",
    "primelist = []\n",
    "primelist1 = []\n",
    "\n",
    "for i in range(2,n+1):\n",
    "    if i > 2:\n",
    "        primelist=[]\n",
    "        for j in range(2,i):\n",
    "            if i%j==0:\n",
    "                primelist.append(i)\n",
    "                break\n",
    "    if len(primelist)==0:\n",
    "        primelist1.append(i)\n",
    "print(primelist1) "
   ]
  },
  {
   "cell_type": "code",
   "execution_count": null,
   "metadata": {},
   "outputs": [],
   "source": [
    "#joseph yaptı\n",
    "prime=[]\n",
    "\n",
    "nnn = int(input(\"enter a limit number\"))\n",
    "\n",
    "for num in range(2, nnn+1):\n",
    "    status = True\n",
    "    for i in range(2, num):\n",
    "        if num % i == 0: status = False\n",
    "    if status:\n",
    "        prime.append(num)\n",
    "print(prime)"
   ]
  },
  {
   "cell_type": "code",
   "execution_count": null,
   "metadata": {},
   "outputs": [],
   "source": [
    "# ahmet yaptı\n",
    "\n",
    "n = int(input('Please enter the range end point: ')) + 1\n",
    "prime_ls = []\n",
    "\n",
    "for i in range(1, n): # 1 - 101    OUTTER \n",
    "    count = 0\n",
    "    for j in range(1,i+1):    # 1-3        INNER - NESTED\n",
    "        if i % j == 0:\n",
    "            count +=1\n",
    "    if count == 2:\n",
    "        # print(f'{i} is a prime number')\n",
    "        # print(i, end=' ')\n",
    "        prime_ls.append(i)\n",
    "\n",
    "print(prime_ls)"
   ]
  },
  {
   "cell_type": "code",
   "execution_count": null,
   "metadata": {
    "tags": [
     "outputPrepend"
    ]
   },
   "outputs": [],
   "source": [
    "# Assignment - 7 (FizzBuzz)\n",
    "\n",
    "# - Print numbers from 1 to 100 inclusively following these instructions:\n",
    "# - if a number is multiple of 3, print \"Fizz\" instead of this number,\n",
    "# - if a number is multiple of 5, print \"Buzz\" instead of this number,\n",
    "# - for numbers that are multiples of both 3 and 5, print \"FizzBuzz\",\n",
    "# - print the rest of the numbers unchanged.\n",
    "# - Output each value on a separate line\n",
    "\n",
    "for i in range(1, 101):\n",
    "    if i%3== 0 and i%5== 0:\n",
    "        print(\"FizzBuzz\")\n",
    "    elif i%3== 0 :\n",
    "        print(\"Fizz\")\n",
    "    elif i%5== 0 :\n",
    "        print(\"Buzz\")\n",
    "    else:\n",
    "        print(i)"
   ]
  },
  {
   "cell_type": "code",
   "execution_count": null,
   "metadata": {},
   "outputs": [],
   "source": [
    "# ahmed derste yaptı assi-7\n",
    "n=int(input(\"Please enter a range end point: \"))+1\n",
    "FzBz = []\n",
    "\n",
    "f, b, fb = 0, 0, 0\n",
    "\n",
    "for num in range(1, n):\n",
    "    if num%3== 0 and num%5== 0:\n",
    "        FzBz.append(\"FizzBuzz\")\n",
    "        fb +=1\n",
    "    elif num%5== 0 :\n",
    "        FzBz.append(\"Buzz\")\n",
    "        b +=1\n",
    "    elif num%3== 0 :\n",
    "        FzBz.append(\"Fizz\")\n",
    "        f +=1\n",
    "    else:\n",
    "        FzBz.append(num)\n",
    "print(FzBz)\n",
    "print(f'We got {f} Fizz, {b} Buzz and {fb} FizzBuzz')"
   ]
  },
  {
   "cell_type": "code",
   "execution_count": null,
   "metadata": {},
   "outputs": [],
   "source": [
    "# Assignment - 8 (Leap-Year) \n",
    "# The year must be evenly divisible by 4;\n",
    "# If the year can also be evenly divided by 100, it is not a leap year; unless...\n",
    "# The year is also evenly divisible by 400. Then it is a leap year.\n",
    "# According to these rules, the years 2000 and 2400 are leap years, while 1800, 1900, 2100, 2200, 2300, and 2500 are not the leap years.\n",
    "# Write a Python program that prints such as \"2020 is a leap year\" if the given year by the user is a leap year, prints such as \"2019 is not a leap year\" otherwise.\n",
    "#year'ın 4 e tam bölünmesi gerekiyor\n",
    "#hem 100'e bölünecek hemde 400'e bölünecek\n",
    "\n",
    "\n",
    "year = int(input(\"dört rakamlı bir yıl giriniz : \"))\n",
    "\n",
    "if leap == (((year % 4 == 0) and (year % 400 == 0)) or (year % 100 != 0)):\n",
    "    print(\"{} is a leap year\".format(year))\n",
    "else:\n",
    "    print(\"{} is not a leap year\".format(year))"
   ]
  },
  {
   "cell_type": "code",
   "execution_count": null,
   "metadata": {},
   "outputs": [],
   "source": [
    "# (eski ödev-8)\n",
    "\n",
    "year = int(input(\"dört rakamlı bir yıl giriniz :\"))\n",
    "\n",
    "leap = bool(not (year % 4) and (not(year % 400) or (year % 100))) \n",
    "\n",
    "print(leap)"
   ]
  },
  {
   "cell_type": "code",
   "execution_count": null,
   "metadata": {},
   "outputs": [],
   "source": [
    "# Assignment - 9 (Letters)\n",
    "\n",
    "# Write a Python program that; takes a sentence from the user, counts the number of each letter of the sentence,\n",
    "# collects the letters/chars as a key and the counted numbers as a value in a dictionary.\n",
    "\n",
    "# hippo runs to us!\t:\n",
    "# {'s': 2, 'r': 1, 't': 1, 'h': 1, 'n': 1, \n",
    "# 'u': 2, 'o': 2, 'p': 2, ' ': 2, '!': 1}"
   ]
  },
  {
   "cell_type": "code",
   "execution_count": null,
   "metadata": {},
   "outputs": [],
   "source": [
    "sent = input(\"Please enter a sentence :\")\n",
    "z={}\n",
    "for i in sent:\n",
    "    z.update({i:sent.count(i)})\n",
    "print(z)\n",
    "print(type(z))\n",
    "\n"
   ]
  },
  {
   "cell_type": "code",
   "execution_count": null,
   "metadata": {},
   "outputs": [],
   "source": [
    "# Assignment - 10 (Sudoku Printer)\n",
    "Task: The department you work for has received a project that displays the solved sudoku puzzles in a digital environment. \n",
    "Write a Python code to print out the given sudoku puzzle matrix in the following format.\n",
    "Given format :\n",
    "sudoku = [\n",
    "    [0, 0, 0, 0, 6, 4, 0, 0, 0],\n",
    "    [7, 0, 0, 0, 0, 0, 3, 9, 0],\n",
    "    [8, 0, 0, 0, 0, 0, 0, 0, 0],\n",
    "    [0, 0, 0, 5, 0, 2, 0, 6, 0],\n",
    "    [0, 8, 0, 4, 0, 0, 0, 0, 0],\n",
    "    [3, 5, 0, 6, 0, 0, 0, 7, 0],\n",
    "    [0, 0, 2, 0, 0, 0, 1, 0, 3],\n",
    "    [0, 0, 1, 0, 5, 9, 0, 0, 0],\n",
    "    [0, 0, 0, 0, 0, 0, 7, 0, 0]\n",
    "]\n",
    "Desired output format :\n",
    "- - - - - - - - - - - - - - - \n",
    "0  0  0  | 0  6  4  | 0  0  0  \n",
    "7  0  0  | 0  0  0  | 3  9  0  \n",
    "8  0  0  | 0  0  0  | 0  0  0  \n",
    "- - - - - - - - - - - - - - - \n",
    "0  0  0  | 5  0  2  | 0  6  0  \n",
    "0  8  0  | 4  0  0  | 0  0  0  \n",
    "3  5  0  | 6  0  0  | 0  7  0  \n",
    "- - - - - - - - - - - - - - - \n",
    "0  0  2  | 0  0  0  | 1  0  3  \n",
    "0  0  1  | 0  5  9  | 0  0  0  \n",
    "0  0  0  | 0  0  0  | 7  0  0  \n",
    "- - - - - - - - - - - - - - -"
   ]
  },
  {
   "cell_type": "code",
   "execution_count": null,
   "metadata": {},
   "outputs": [],
   "source": [
    "sudoku = [\n",
    "    [0, 0, 0, 0, 6, 4, 0, 0, 0],\n",
    "    [7, 0, 0, 0, 0, 0, 3, 9, 0],\n",
    "    [8, 0, 0, 0, 0, 0, 0, 0, 0],\n",
    "    [0, 0, 0, 5, 0, 2, 0, 6, 0],\n",
    "    [0, 8, 0, 4, 0, 0, 0, 0, 0],\n",
    "    [3, 5, 0, 6, 0, 0, 0, 7, 0],\n",
    "    [0, 0, 2, 0, 0, 0, 1, 0, 3],\n",
    "    [0, 0, 1, 0, 5, 9, 0, 0, 0],\n",
    "    [0, 0, 0, 0, 0, 0, 7, 0, 0]\n",
    "]\n",
    "\n",
    "print(\"- - - - - - - - - - -\")\n",
    "for i in range(len(sudoku)):\n",
    "    if i!=0 and i%3==0:\n",
    "        print(\"- - - - - - - - - - -\")\n",
    "    for j in range(len(sudoku[i])):\n",
    "        if j!=0 and j%3==0:\n",
    "            print(\"|\", end=\" \")\n",
    "        print(sudoku[i][j], end=\" \")\n",
    "    print(\" \")\n",
    "print(\"- - - - - - - - - - -\")\n"
   ]
  },
  {
   "cell_type": "code",
   "execution_count": null,
   "metadata": {},
   "outputs": [],
   "source": []
  },
  {
   "cell_type": "code",
   "execution_count": null,
   "metadata": {},
   "outputs": [],
   "source": []
  }
 ],
 "metadata": {
  "language_info": {
   "codemirror_mode": {
    "name": "ipython",
    "version": 3
   },
   "file_extension": ".py",
   "mimetype": "text/x-python",
   "name": "python",
   "nbconvert_exporter": "python",
   "pygments_lexer": "ipython3",
   "version": "3.7.7-final"
  },
  "orig_nbformat": 2,
  "kernelspec": {
   "name": "python3",
   "display_name": "Python 3"
  }
 },
 "nbformat": 4,
 "nbformat_minor": 2
}