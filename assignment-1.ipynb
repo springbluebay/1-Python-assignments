{
 "cells": [
  {
   "cell_type": "code",
   "execution_count": null,
   "metadata": {},
   "outputs": [],
   "source": [
    "# Assignment - 1 (if-Statements)\n",
    "    \n",
    "myname = 'bluebay'\n",
    "username = input('Please enter your name : ')\n",
    "\n",
    "if username == myname:\n",
    "    print(\"Hello, {}! The password is : @12\".format(myname))\n",
    "else:\n",
    "    print(\"Hello, {}! See you later.\".format(username))"
   ]
  }
 ],
 "metadata": {
  "language_info": {
   "codemirror_mode": {
    "name": "ipython",
    "version": 3
   },
   "file_extension": ".py",
   "mimetype": "text/x-python",
   "name": "python",
   "nbconvert_exporter": "python",
   "pygments_lexer": "ipython3",
   "version": 3
  },
  "orig_nbformat": 2
 },
 "nbformat": 4,
 "nbformat_minor": 2
}