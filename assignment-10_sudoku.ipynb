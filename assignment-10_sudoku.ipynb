{
 "cells": [
  {
   "cell_type": "code",
   "execution_count": null,
   "metadata": {},
   "outputs": [],
   "source": [
    "# Assignment - 10 (Sudoku Printer)\n",
    "# Task: The department you work for has received a project that displays the solved sudoku puzzles in a digital environment. \n",
    "# Write a Python code to print out the given sudoku puzzle matrix in the following format.\n",
    "# Given format :\n",
    "sudoku = [\n",
    "    [0, 0, 0, 0, 6, 4, 0, 0, 0],\n",
    "    [7, 0, 0, 0, 0, 0, 3, 9, 0],\n",
    "    [8, 0, 0, 0, 0, 0, 0, 0, 0],\n",
    "    [0, 0, 0, 5, 0, 2, 0, 6, 0],\n",
    "    [0, 8, 0, 4, 0, 0, 0, 0, 0],\n",
    "    [3, 5, 0, 6, 0, 0, 0, 7, 0],\n",
    "    [0, 0, 2, 0, 0, 0, 1, 0, 3],\n",
    "    [0, 0, 1, 0, 5, 9, 0, 0, 0],\n",
    "    [0, 0, 0, 0, 0, 0, 7, 0, 0]\n",
    "]\n",
    "\n",
    "print(\"- - - - - - - - - - -\")\n",
    "for i in range(len(sudoku)):\n",
    "    if i!=0 and i%3==0:\n",
    "        print(\"- - - - - - - - - - -\")\n",
    "    for j in range(len(sudoku[i])):\n",
    "        if j!=0 and j%3==0:\n",
    "            print(\"|\", end=\" \")\n",
    "        print(sudoku[i][j], end=\" \")\n",
    "    print(\" \")\n",
    "print(\"- - - - - - - - - - -\")"
   ]
  }
 ],
 "metadata": {
  "language_info": {
   "codemirror_mode": {
    "name": "ipython",
    "version": 3
   },
   "file_extension": ".py",
   "mimetype": "text/x-python",
   "name": "python",
   "nbconvert_exporter": "python",
   "pygments_lexer": "ipython3",
   "version": "3.7.7-final"
  },
  "orig_nbformat": 2,
  "kernelspec": {
   "name": "python3",
   "display_name": "Python 3"
  }
 },
 "nbformat": 4,
 "nbformat_minor": 2
}