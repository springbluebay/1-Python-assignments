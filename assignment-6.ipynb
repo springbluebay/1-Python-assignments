{
 "cells": [
  {
   "cell_type": "code",
   "execution_count": null,
   "metadata": {},
   "outputs": [],
   "source": [
    "# Assignment - 6 (Primes) \n",
    "n = 100\n",
    "primelist = []\n",
    "primelist1 = [1]\n",
    "\n",
    "for i in range(1,n):\n",
    "    if i >2:\n",
    "        primelist=[]\n",
    "        for j in range(2,i):\n",
    "            if i%j==0:\n",
    "                primelist.append(i)\n",
    "    if len(primelist)==0:\n",
    "        primelist1.append(i)\n",
    "print(primelist1)"
   ]
  },
  {
   "cell_type": "code",
   "execution_count": null,
   "metadata": {},
   "outputs": [],
   "source": []
  }
 ],
 "metadata": {
  "language_info": {
   "codemirror_mode": {
    "name": "ipython",
    "version": 3
   },
   "file_extension": ".py",
   "mimetype": "text/x-python",
   "name": "python",
   "nbconvert_exporter": "python",
   "pygments_lexer": "ipython3",
   "version": "3.7.7-final"
  },
  "orig_nbformat": 2,
  "kernelspec": {
   "name": "python3",
   "display_name": "Python 3"
  }
 },
 "nbformat": 4,
 "nbformat_minor": 2
}